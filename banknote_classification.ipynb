{
 "cells": [
  {
   "cell_type": "markdown",
   "metadata": {},
   "source": [
    "# Introduction\n",
    "\n",
    "The notebook contains a solution to the binary classification problem, based on a dataset available under [this link](https://archive.ics.uci.edu/ml/machine-learning-databases/00267/). The idea of the task was to distinguish genuine and forged banknotes based on certain features of their images. \n",
    "\n",
    "The provided solution served as an example to test and present a few of the most important performance metrics for binary classifiers. Stochastic gradient descent classifier was used.\n",
    "\n",
    "The code was based on Chapter 3 of Aurelien Geron, 'Hands - On Machine Learing with Scikit-Learn and TensorFlow', Helion SA, 2018. "
   ]
  },
  {
   "cell_type": "code",
   "execution_count": 1,
   "metadata": {},
   "outputs": [],
   "source": [
    "import os\n",
    "from six.moves import urllib\n",
    "import tarfile\n",
    "import pandas as pd\n",
    "import numpy as np\n",
    "%matplotlib inline\n",
    "import matplotlib.pyplot as plt"
   ]
  },
  {
   "cell_type": "code",
   "execution_count": 2,
   "metadata": {},
   "outputs": [],
   "source": [
    "DOWNLOAD_ROOT = 'http://archive.ics.uci.edu/ml/machine-learning-databases/'\n",
    "BANKNOTE_PATH = os.path.join('datasets', 'banknotes')\n",
    "BANKNOTE_URL = DOWNLOAD_ROOT + '00267/data_banknote_authentication.txt'\n",
    "\n",
    "def fetch_data(data_url, data_path, filename, is_tar = False):\n",
    "    if  not os.path.isdir(data_path):\n",
    "        os.makedirs(data_path)\n",
    "    file_path = os.path.join(data_path, filename)\n",
    "    urllib.request.urlretrieve(data_url, file_path)\n",
    "    if is_tar:\n",
    "        with tarfile.TarFile(file_path) as current_tar:\n",
    "            current_tar.extractall(data_path)\n",
    "\n",
    "def load_data(data_path, filename, separator = \",\", header = None):\n",
    "    file_path = os.path.join(data_path, filename)\n",
    "    return pd.read_csv(file_path, sep = separator, header = header)"
   ]
  },
  {
   "cell_type": "code",
   "execution_count": 3,
   "metadata": {},
   "outputs": [
    {
     "data": {
      "text/html": [
       "<div>\n",
       "<style scoped>\n",
       "    .dataframe tbody tr th:only-of-type {\n",
       "        vertical-align: middle;\n",
       "    }\n",
       "\n",
       "    .dataframe tbody tr th {\n",
       "        vertical-align: top;\n",
       "    }\n",
       "\n",
       "    .dataframe thead th {\n",
       "        text-align: right;\n",
       "    }\n",
       "</style>\n",
       "<table border=\"1\" class=\"dataframe\">\n",
       "  <thead>\n",
       "    <tr style=\"text-align: right;\">\n",
       "      <th></th>\n",
       "      <th>1</th>\n",
       "      <th>2</th>\n",
       "      <th>3</th>\n",
       "      <th>4</th>\n",
       "      <th>label</th>\n",
       "    </tr>\n",
       "  </thead>\n",
       "  <tbody>\n",
       "    <tr>\n",
       "      <th>0</th>\n",
       "      <td>3.62160</td>\n",
       "      <td>8.6661</td>\n",
       "      <td>-2.8073</td>\n",
       "      <td>-0.44699</td>\n",
       "      <td>0</td>\n",
       "    </tr>\n",
       "    <tr>\n",
       "      <th>1</th>\n",
       "      <td>4.54590</td>\n",
       "      <td>8.1674</td>\n",
       "      <td>-2.4586</td>\n",
       "      <td>-1.46210</td>\n",
       "      <td>0</td>\n",
       "    </tr>\n",
       "    <tr>\n",
       "      <th>2</th>\n",
       "      <td>3.86600</td>\n",
       "      <td>-2.6383</td>\n",
       "      <td>1.9242</td>\n",
       "      <td>0.10645</td>\n",
       "      <td>0</td>\n",
       "    </tr>\n",
       "    <tr>\n",
       "      <th>3</th>\n",
       "      <td>3.45660</td>\n",
       "      <td>9.5228</td>\n",
       "      <td>-4.0112</td>\n",
       "      <td>-3.59440</td>\n",
       "      <td>0</td>\n",
       "    </tr>\n",
       "    <tr>\n",
       "      <th>4</th>\n",
       "      <td>0.32924</td>\n",
       "      <td>-4.4552</td>\n",
       "      <td>4.5718</td>\n",
       "      <td>-0.98880</td>\n",
       "      <td>0</td>\n",
       "    </tr>\n",
       "  </tbody>\n",
       "</table>\n",
       "</div>"
      ],
      "text/plain": [
       "         1       2       3        4  label\n",
       "0  3.62160  8.6661 -2.8073 -0.44699      0\n",
       "1  4.54590  8.1674 -2.4586 -1.46210      0\n",
       "2  3.86600 -2.6383  1.9242  0.10645      0\n",
       "3  3.45660  9.5228 -4.0112 -3.59440      0\n",
       "4  0.32924 -4.4552  4.5718 -0.98880      0"
      ]
     },
     "execution_count": 3,
     "metadata": {},
     "output_type": "execute_result"
    }
   ],
   "source": [
    "fetch_data(BANKNOTE_URL, BANKNOTE_PATH, 'banknote_data.txt')\n",
    "banknote_raw_data = load_data(BANKNOTE_PATH, 'banknote_data.txt')\n",
    "\n",
    "names = ['1', '2', '3', '4', 'label']\n",
    "\n",
    "banknote_raw_data.columns = names\n",
    "banknote_raw_data.head()"
   ]
  },
  {
   "cell_type": "code",
   "execution_count": 4,
   "metadata": {},
   "outputs": [
    {
     "name": "stdout",
     "output_type": "stream",
     "text": [
      "<class 'pandas.core.frame.DataFrame'>\n",
      "RangeIndex: 1372 entries, 0 to 1371\n",
      "Data columns (total 5 columns):\n",
      "1        1372 non-null float64\n",
      "2        1372 non-null float64\n",
      "3        1372 non-null float64\n",
      "4        1372 non-null float64\n",
      "label    1372 non-null int64\n",
      "dtypes: float64(4), int64(1)\n",
      "memory usage: 53.7 KB\n"
     ]
    }
   ],
   "source": [
    "banknote_raw_data.info()"
   ]
  },
  {
   "cell_type": "code",
   "execution_count": 5,
   "metadata": {},
   "outputs": [
    {
     "data": {
      "text/html": [
       "<div>\n",
       "<style scoped>\n",
       "    .dataframe tbody tr th:only-of-type {\n",
       "        vertical-align: middle;\n",
       "    }\n",
       "\n",
       "    .dataframe tbody tr th {\n",
       "        vertical-align: top;\n",
       "    }\n",
       "\n",
       "    .dataframe thead th {\n",
       "        text-align: right;\n",
       "    }\n",
       "</style>\n",
       "<table border=\"1\" class=\"dataframe\">\n",
       "  <thead>\n",
       "    <tr style=\"text-align: right;\">\n",
       "      <th></th>\n",
       "      <th>1</th>\n",
       "      <th>2</th>\n",
       "      <th>3</th>\n",
       "      <th>4</th>\n",
       "      <th>label</th>\n",
       "    </tr>\n",
       "  </thead>\n",
       "  <tbody>\n",
       "    <tr>\n",
       "      <th>count</th>\n",
       "      <td>1372.000000</td>\n",
       "      <td>1372.000000</td>\n",
       "      <td>1372.000000</td>\n",
       "      <td>1372.000000</td>\n",
       "      <td>1372.000000</td>\n",
       "    </tr>\n",
       "    <tr>\n",
       "      <th>mean</th>\n",
       "      <td>0.433735</td>\n",
       "      <td>1.922353</td>\n",
       "      <td>1.397627</td>\n",
       "      <td>-1.191657</td>\n",
       "      <td>0.444606</td>\n",
       "    </tr>\n",
       "    <tr>\n",
       "      <th>std</th>\n",
       "      <td>2.842763</td>\n",
       "      <td>5.869047</td>\n",
       "      <td>4.310030</td>\n",
       "      <td>2.101013</td>\n",
       "      <td>0.497103</td>\n",
       "    </tr>\n",
       "    <tr>\n",
       "      <th>min</th>\n",
       "      <td>-7.042100</td>\n",
       "      <td>-13.773100</td>\n",
       "      <td>-5.286100</td>\n",
       "      <td>-8.548200</td>\n",
       "      <td>0.000000</td>\n",
       "    </tr>\n",
       "    <tr>\n",
       "      <th>25%</th>\n",
       "      <td>-1.773000</td>\n",
       "      <td>-1.708200</td>\n",
       "      <td>-1.574975</td>\n",
       "      <td>-2.413450</td>\n",
       "      <td>0.000000</td>\n",
       "    </tr>\n",
       "    <tr>\n",
       "      <th>50%</th>\n",
       "      <td>0.496180</td>\n",
       "      <td>2.319650</td>\n",
       "      <td>0.616630</td>\n",
       "      <td>-0.586650</td>\n",
       "      <td>0.000000</td>\n",
       "    </tr>\n",
       "    <tr>\n",
       "      <th>75%</th>\n",
       "      <td>2.821475</td>\n",
       "      <td>6.814625</td>\n",
       "      <td>3.179250</td>\n",
       "      <td>0.394810</td>\n",
       "      <td>1.000000</td>\n",
       "    </tr>\n",
       "    <tr>\n",
       "      <th>max</th>\n",
       "      <td>6.824800</td>\n",
       "      <td>12.951600</td>\n",
       "      <td>17.927400</td>\n",
       "      <td>2.449500</td>\n",
       "      <td>1.000000</td>\n",
       "    </tr>\n",
       "  </tbody>\n",
       "</table>\n",
       "</div>"
      ],
      "text/plain": [
       "                 1            2            3            4        label\n",
       "count  1372.000000  1372.000000  1372.000000  1372.000000  1372.000000\n",
       "mean      0.433735     1.922353     1.397627    -1.191657     0.444606\n",
       "std       2.842763     5.869047     4.310030     2.101013     0.497103\n",
       "min      -7.042100   -13.773100    -5.286100    -8.548200     0.000000\n",
       "25%      -1.773000    -1.708200    -1.574975    -2.413450     0.000000\n",
       "50%       0.496180     2.319650     0.616630    -0.586650     0.000000\n",
       "75%       2.821475     6.814625     3.179250     0.394810     1.000000\n",
       "max       6.824800    12.951600    17.927400     2.449500     1.000000"
      ]
     },
     "execution_count": 5,
     "metadata": {},
     "output_type": "execute_result"
    }
   ],
   "source": [
    "banknote_raw_data.describe()"
   ]
  },
  {
   "cell_type": "markdown",
   "metadata": {},
   "source": [
    "The data set is complete (there are no missing values) and consists of 4 features, represented by 64-bit floating point numbers, alongside a binary label, indicating a class to which the example belongs to. The histograms are visualized in order to find basic information about the distribution of each feature's values. In the next step, the data is shuffled and split into training and test set, in a way to ensure equal distribution of each class' examples in both sets. The standarization of data set is achieved with StandardScaler class, which is a part of scikit-learn library."
   ]
  },
  {
   "cell_type": "code",
   "execution_count": 75,
   "metadata": {},
   "outputs": [
    {
     "data": {
      "text/plain": [
       "array([[<matplotlib.axes._subplots.AxesSubplot object at 0x7ff442ded320>,\n",
       "        <matplotlib.axes._subplots.AxesSubplot object at 0x7ff442a25128>],\n",
       "       [<matplotlib.axes._subplots.AxesSubplot object at 0x7ff442cf76d8>,\n",
       "        <matplotlib.axes._subplots.AxesSubplot object at 0x7ff442c37c88>]],\n",
       "      dtype=object)"
      ]
     },
     "execution_count": 75,
     "metadata": {},
     "output_type": "execute_result"
    },
    {
     "data": {
      "image/png": "[encoded data removed]",
      "text/plain": [
       "<Figure size 1080x720 with 4 Axes>"
      ]
     },
     "metadata": {
      "needs_background": "light"
     },
     "output_type": "display_data"
    }
   ],
   "source": [
    "banknote_raw_data.hist(column = ['1', '2', '3', '4'], bins = 100, figsize = (15, 10))"
   ]
  },
  {
   "cell_type": "code",
   "execution_count": 7,
   "metadata": {},
   "outputs": [
    {
     "name": "stdout",
     "output_type": "stream",
     "text": [
      "0    0.555394\n",
      "1    0.444606\n",
      "Name: label, dtype: float64\n",
      "\n",
      "\n",
      "0    0.55515\n",
      "1    0.44485\n",
      "Name: label, dtype: float64\n"
     ]
    }
   ],
   "source": [
    "from sklearn.model_selection import StratifiedShuffleSplit\n",
    "\n",
    "split = StratifiedShuffleSplit(n_splits = 1, test_size = 0.2, random_state = 42)\n",
    "for train_index, test_index in split.split(banknote_raw_data, banknote_raw_data['label']):\n",
    "    strat_train_set = banknote_raw_data.loc[train_index]\n",
    "    strat_test_set = banknote_raw_data.loc[test_index]\n",
    "    \n",
    "print(banknote_raw_data['label'].value_counts() / len(banknote_raw_data))\n",
    "print('\\n')\n",
    "print(strat_train_set['label'].value_counts() / len(strat_train_set))"
   ]
  },
  {
   "cell_type": "code",
   "execution_count": 22,
   "metadata": {},
   "outputs": [],
   "source": [
    "train_data = strat_train_set.copy()\n",
    "\n",
    "shuffle_indexes = np.random.permutation(len(train_data))\n",
    "train_data = train_data.iloc[shuffle_indexes]\n",
    "train_data = train_data.reset_index(drop = True)\n",
    "\n",
    "targets = train_data['label']\n",
    "data = train_data.drop('label', axis = 1)"
   ]
  },
  {
   "cell_type": "code",
   "execution_count": 23,
   "metadata": {},
   "outputs": [
    {
     "data": {
      "text/plain": [
       "array([[<matplotlib.axes._subplots.AxesSubplot object at 0x7ff444d23128>,\n",
       "        <matplotlib.axes._subplots.AxesSubplot object at 0x7ff444cd12e8>],\n",
       "       [<matplotlib.axes._subplots.AxesSubplot object at 0x7ff444c7d6a0>,\n",
       "        <matplotlib.axes._subplots.AxesSubplot object at 0x7ff444c9bb70>]],\n",
       "      dtype=object)"
      ]
     },
     "execution_count": 23,
     "metadata": {},
     "output_type": "execute_result"
    },
    {
     "data": {
      "image/png": "[encoded data removed]",
      "text/plain": [
       "<Figure size 1440x1080 with 4 Axes>"
      ]
     },
     "metadata": {
      "needs_background": "light"
     },
     "output_type": "display_data"
    }
   ],
   "source": [
    "from sklearn.preprocessing import StandardScaler\n",
    "\n",
    "scaler = StandardScaler()\n",
    "data_scaled = scaler.fit_transform(data)\n",
    "\n",
    "data_scaled = pd.DataFrame(data = data_scaled[:,:],\n",
    "                           index = None,\n",
    "                           columns = ['1', '2', '3', '4'])\n",
    "\n",
    "data_scaled.hist(bins = 100, figsize = (15, 10))"
   ]
  },
  {
   "cell_type": "markdown",
   "metadata": {},
   "source": [
    "Stochastic gradient descent classification algorithm is implemented in scikit-learn as SGDClassifier class. The model was trained with the train set, which consists of 1097 examples from the input set.\n",
    "### Basic numeric metrics\n",
    "\n",
    "Firstly, the fit is evaluated with a confusion matrix, precision and recall score and F1 score."
   ]
  },
  {
   "cell_type": "code",
   "execution_count": 64,
   "metadata": {},
   "outputs": [
    {
     "data": {
      "text/plain": [
       "SGDClassifier(alpha=0.0001, average=False, class_weight=None,\n",
       "              early_stopping=False, epsilon=0.1, eta0=0.0, fit_intercept=True,\n",
       "              l1_ratio=0.15, learning_rate='optimal', loss='hinge',\n",
       "              max_iter=1000, n_iter_no_change=5, n_jobs=None, penalty='l2',\n",
       "              power_t=0.5, random_state=42, shuffle=True, tol=0.001,\n",
       "              validation_fraction=0.1, verbose=0, warm_start=False)"
      ]
     },
     "execution_count": 64,
     "metadata": {},
     "output_type": "execute_result"
    }
   ],
   "source": [
    "from sklearn.linear_model import SGDClassifier\n",
    "\n",
    "sgd_classifier = SGDClassifier(random_state = 42)\n",
    "sgd_classifier.fit(data_scaled, targets)"
   ]
  },
  {
   "cell_type": "code",
   "execution_count": 65,
   "metadata": {},
   "outputs": [
    {
     "data": {
      "text/plain": [
       "array([[602,   7],\n",
       "       [  7, 481]])"
      ]
     },
     "execution_count": 65,
     "metadata": {},
     "output_type": "execute_result"
    }
   ],
   "source": [
    "from sklearn.model_selection import cross_val_predict\n",
    "from sklearn.metrics import confusion_matrix\n",
    "\n",
    "data_predict = cross_val_predict(sgd_classifier, data_scaled, targets, cv = 3)\n",
    "confusion_matrix(targets, data_predict)"
   ]
  },
  {
   "cell_type": "code",
   "execution_count": 66,
   "metadata": {},
   "outputs": [
    {
     "name": "stdout",
     "output_type": "stream",
     "text": [
      "Precision of predictions:  0.985655737704918\n",
      "Recall of predictions:  0.985655737704918\n"
     ]
    }
   ],
   "source": [
    "from sklearn.metrics import precision_score, recall_score\n",
    "\n",
    "print('Precision of predictions: ', precision_score(targets, data_predict))\n",
    "print('Recall of predictions: ', recall_score(targets, data_predict))"
   ]
  },
  {
   "cell_type": "code",
   "execution_count": 67,
   "metadata": {},
   "outputs": [
    {
     "name": "stdout",
     "output_type": "stream",
     "text": [
      "F1 score:  0.985655737704918\n"
     ]
    }
   ],
   "source": [
    "from sklearn.metrics import f1_score\n",
    "\n",
    "print('F1 score: ', f1_score(targets, data_predict))"
   ]
  },
  {
   "cell_type": "markdown",
   "metadata": {},
   "source": [
    "### Precision - recall curve\n",
    "\n",
    "The next metric used to evaluate the fit was a precision - recall curve. Firstly, the curve was plotted as a function of a threshold of a decision function. Based on tha graph, the threshold was calculated to ensure the optimal relationship between precision and recall scores. Of course, depending on the project's requirements, that value can be increased or lowered to put greater importance on one of the scores. A 3-fold cross - validation test was used.\n",
    "\n",
    "Secondly, the curve was plotted as precision in a function of recall."
   ]
  },
  {
   "cell_type": "code",
   "execution_count": 68,
   "metadata": {},
   "outputs": [
    {
     "data": {
      "image/png": "[encoded data removed]",
      "text/plain": [
       "<Figure size 648x432 with 1 Axes>"
      ]
     },
     "metadata": {
      "needs_background": "light"
     },
     "output_type": "display_data"
    },
    {
     "name": "stdout",
     "output_type": "stream",
     "text": [
      "Threshold for maximum values of precision and recall:  0.09451522975041904\n"
     ]
    }
   ],
   "source": [
    "from sklearn.metrics import precision_recall_curve\n",
    "\n",
    "data_pred_scores = cross_val_predict(sgd_classifier, data_scaled, targets, cv = 3, \n",
    "                                     method = 'decision_function')\n",
    "precs, recalls, thresh = precision_recall_curve(targets, data_pred_scores)\n",
    "\n",
    "plt.figure(figsize = (9, 6))\n",
    "plt.plot(thresh, precs[:-1], 'r-', label = \"Precision\")\n",
    "plt.plot(thresh, recalls[:-1], 'g-', label = \"Recall\")\n",
    "plt.xlabel('Threshold')\n",
    "plt.xlim([thresh[np.where(recalls == 1)], thresh[np.where(recalls == 0)[-1] - 1]])\n",
    "plt.legend(loc = 'center right')\n",
    "plt.grid(True)\n",
    "plt.show()\n",
    "\n",
    "print('Threshold for maximum values of precision and recall: ', thresh[np.where(recalls == precs)][0])"
   ]
  },
  {
   "cell_type": "code",
   "execution_count": 70,
   "metadata": {},
   "outputs": [
    {
     "data": {
      "image/png": "[encoded data removed]",
      "text/plain": [
       "<Figure size 648x432 with 1 Axes>"
      ]
     },
     "metadata": {
      "needs_background": "light"
     },
     "output_type": "display_data"
    }
   ],
   "source": [
    "plt.figure(figsize = (9, 6))\n",
    "plt.plot(recalls[:-1], precs[:-1], 'b')\n",
    "plt.xlabel(\"Recall\")\n",
    "plt.ylabel(\"Precision\")\n",
    "plt.xlim([0, 1.1])\n",
    "plt.ylim([precs[np.where(recalls == 1)][-1], 1.005])\n",
    "plt.grid(True)\n",
    "plt.show()"
   ]
  },
  {
   "cell_type": "markdown",
   "metadata": {},
   "source": [
    "### ROC Curve\n",
    "\n",
    "Lastly, the ROC curve was obtained. The area under curve was calculated with scikit - learn library's method. "
   ]
  },
  {
   "cell_type": "code",
   "execution_count": 71,
   "metadata": {},
   "outputs": [
    {
     "data": {
      "image/png": "[encoded data removed]",
      "text/plain": [
       "<Figure size 648x432 with 1 Axes>"
      ]
     },
     "metadata": {
      "needs_background": "light"
     },
     "output_type": "display_data"
    },
    {
     "name": "stdout",
     "output_type": "stream",
     "text": [
      "AUC score:  0.9991150502032357\n"
     ]
    }
   ],
   "source": [
    "from sklearn.metrics import roc_curve, roc_auc_score\n",
    "\n",
    "false_positive_rates, true_positive_rates, thresh_roc = roc_curve(targets, data_pred_scores)\n",
    "\n",
    "plt.figure(figsize = (9,6))\n",
    "plt.plot(false_positive_rates, true_positive_rates, 'r')\n",
    "plt.plot([0, 1], [0, 1], 'k--')\n",
    "plt.xlabel('False positive rate')\n",
    "plt.ylabel('True positive rate')\n",
    "plt.xlim([-0.05, 1])\n",
    "plt.ylim([0, 1.05])\n",
    "plt.grid(True)\n",
    "plt.show()\n",
    "\n",
    "print('AUC score: ', roc_auc_score(targets, data_pred_scores))"
   ]
  },
  {
   "cell_type": "markdown",
   "metadata": {},
   "source": [
    "Finally, the evaluated SGD model was applied to the test set. A confusion matrix, precision and recall scores and F1 score was calculated."
   ]
  },
  {
   "cell_type": "code",
   "execution_count": 74,
   "metadata": {},
   "outputs": [
    {
     "name": "stdout",
     "output_type": "stream",
     "text": [
      "Confusion matrix for the test set: \n",
      " [[150   3]\n",
      " [  8 114]]\n",
      "Precision of predictions for the test set:  0.9743589743589743\n",
      "Recall of predictions for the test set:  0.9344262295081968\n",
      "F1 score for the test set:  0.9539748953974896\n"
     ]
    }
   ],
   "source": [
    "test_data = strat_test_set.copy()\n",
    "\n",
    "shuffle_indexes_test = np.random.permutation(len(test_data))\n",
    "test_data = train_data.iloc[shuffle_indexes_test]\n",
    "test_data = train_data.reset_index(drop = True)\n",
    "\n",
    "data_test = strat_test_set.drop(\"label\", axis = 1)\n",
    "targets_test = strat_test_set[\"label\"]\n",
    "\n",
    "data_test_scaled = scaler.transform(data_test)\n",
    "\n",
    "data_test_scaled = pd.DataFrame(data = data_test_scaled[:,:],\n",
    "                                index = None,\n",
    "                                columns = ['1', '2', '3', '4'])\n",
    "\n",
    "data_test_predict = cross_val_predict(sgd_classifier, data_test_scaled, targets_test, cv = 3)\n",
    "\n",
    "print('Confusion matrix for the test set: \\n', confusion_matrix(targets_test, data_test_predict))  \n",
    "print('Precision of predictions for the test set: ', precision_score(targets_test, data_test_predict))\n",
    "print('Recall of predictions for the test set: ', recall_score(targets_test, data_test_predict))\n",
    "print('F1 score for the test set: ', f1_score(targets_test, data_test_predict))"
   ]
  },
  {
   "cell_type": "markdown",
   "metadata": {},
   "source": [
    "The used model performed very well with the used data set, achieving **the F1 score over 98% for the train set and over 95% for the test set.** \n",
    "\n",
    "The practical use of binary classifier's metrics helps to understand the idea behind them and facilitates the further development in the machine learning field.    "
   ]
  }
 ],
 "metadata": {
  "kernelspec": {
   "display_name": "Python 3",
   "language": "python",
   "name": "python3"
  },
  "language_info": {
   "codemirror_mode": {
    "name": "ipython",
    "version": 3
   },
   "file_extension": ".py",
   "mimetype": "text/x-python",
   "name": "python",
   "nbconvert_exporter": "python",
   "pygments_lexer": "ipython3",
   "version": "3.6.9"
  }
 },
 "nbformat": 4,
 "nbformat_minor": 4
}
